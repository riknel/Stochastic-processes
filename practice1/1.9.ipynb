{
 "cells": [
  {
   "cell_type": "markdown",
   "metadata": {},
   "source": [
    "# Случайные процессы. Прикладной поток.\n",
    "## Практическое задание 1\n",
    "\n",
    "**Правила:**\n",
    "\n",
    "* Выполненную работу нужно отправить на почту `probability.diht@yandex.ru`, указав тему письма `\"[СП17] Фамилия Имя - Задание 1\"`. Квадратные скобки обязательны. Вместо `Фамилия Имя` нужно подставить свои фамилию и имя.\n",
    "* Прислать нужно ноутбук и его pdf-версию. Названия файлов должны быть такими: `1.N.ipynb` и `1.N.pdf`, где `N` - ваш номер из таблицы с оценками.\n",
    "* Никакой код из данного задания при проверке запускаться не будет.\n",
    "* Дедлайн и система оценивания будут объявлены позже."
   ]
  },
  {
   "cell_type": "markdown",
   "metadata": {},
   "source": [
    "<IMG SRC=\"https://www.wikitree.com/images/wikitree-logo.png\">\n",
    "\n",
    "\n",
    "В Британской империи в Викторианскую эпоху (1837—1901) было обращено внимание на вымирание аристократических фамилий. В связи с этим в своей статье в The Educational Times в 1873 году Гальтон поставил вопрос о вероятности вымирания фамилии. Решение этого вопроса нашел Ватсон и вместе в 1874 году они написали статью \"On the probability of the extinction of families\".\n",
    "На сайте <a href=\"http://wikitree.com\">wikitree.com</a> в свободно распространяемом формате собрано большое количество данных о родословных различных людей. В коллекции есть как люди, жившие во времена поздней античности, так и наши современники. На основе некоторой части этих данных вам предстоит провести исследование о вымирании фамилий.\n",
    "\n",
    "Вам предоставляются несколько файлов, в которых содержатся данные о некоторых родословных. Вам предстоит проводить исследование на нескольких из этих файлов (каких именно, см. в таблице). Формат файлов следующий:\n",
    "\n",
    "`generation \\t name \\t gender \\t birthday \\t deathdate \\t parents \\t siblings \\t spouses \\t children`\n",
    "\n",
    "Эти данные означают номер поколения, фамилию, пол, дату рождения, дату смерти, родителей, братьев и сестер, супруг, детей соответственно. Если какая-то характеристика неизвестна (кроме номера поколения и фамилии), вместо нее ставится пустая подстрока. Если каких-то характеристик несколько, то они разделены через \";\". Все люди представлены некоторым идентификатором `<id>`, который соответствует адресу `http://www.wikitree.com/wiki/<id>`. Например, идентификатор `Romanov-29` соответствует адресу <a href=\"http://www.wikitree.com/wiki/Romanov-29\">`http://www.wikitree.com/wiki/Romanov-29`</a>. В файле родословные отделяются друг от друга пустой строкой.\n",
    "\n",
    "Для облегчения вашей работы мы предоставляем вам код, который считывает данные из этого файла и преобразует их в список ветвящихся процессов. Каждый ветвящийся процесс содержит список списков, в каждом из которых содержатся все люди из соответствующего поколения. Обратите внимание, что одни и те же родословные могут попасть в разные файлы. В таком случае их можно считать разными, но при желании вы можете удалить копии.\n",
    "\n",
    "В предоставленных данных в каждой родословной для каждого мужчины на следующем поколении содержатся все его дети, которые были указаны на сайте. Для женщин дети в данной родословной не указаны. Это связано с тем, что женщины обычно меняют свою фамилию, когда выходят замуж, тем самым, они переходят в другую ветку. С точки зрения ветвящихся процессов, нужно иметь в виду, что если у мужчины родилось 3 мальчика и 4 девочки, то у него 3 потомка как продолжателя фамилии.\n",
    "\n",
    "Ваша задача --- исследовать процесс вымирания фамилий на основе предложенных данных. В данном задании вам предстоит сделать оценку закона размножения, а в следующем задании --- провести остальной анализ."
   ]
  },
  {
   "cell_type": "code",
   "execution_count": 1,
   "metadata": {},
   "outputs": [],
   "source": [
    "import numpy as np\n",
    "import scipy.stats as sps\n",
    "from collections import Counter  # это может пригодиться\n",
    "from BranchingProcess import Person, BranchingProcess, read_from_files\n",
    "\n",
    "from scipy.special import factorial\n",
    "\n",
    "import matplotlib.pyplot as plt\n",
    "from matplotlib import rcParams\n",
    "rcParams.update({'font.size': 16})\n",
    "%matplotlib inline"
   ]
  },
  {
   "cell_type": "markdown",
   "metadata": {},
   "source": [
    "## 1. Описательный анализ\n",
    "\n",
    "Большая часть кода, необходимая для проведения данного анализа, является технической и основывается на работе с пакетом `BranchingProcess`. Поэтому данный код полностью вам выдается, вам нужно только выполнить его, подставить имена файлов. Кроме того, код анализа позволит вам лучше понять структуру данных.\n",
    "\n",
    "Считайте данные с помощью предложенного кода. Посчитайте количество родословных."
   ]
  },
  {
   "cell_type": "code",
   "execution_count": 138,
   "metadata": {},
   "outputs": [
    {
     "name": "stdout",
     "output_type": "stream",
     "text": [
      "62034\n"
     ]
    }
   ],
   "source": [
    "processes = read_from_files(['data/L.txt','data/R.txt', 'data/J.txt','data/P.txt', 'data/D.txt',\n",
    "                             'data/F.txt', 'data/E.txt', 'data/O.txt', 'data/M.txt', 'data/W.txt'])\n",
    "print(len(processes))"
   ]
  },
  {
   "cell_type": "markdown",
   "metadata": {},
   "source": [
    "В имеющихся данных очень много людей, про которых известно лишь то, что они когда-то существовали. Обычно их фамилия неизвестна (вместо фамилии у них может стоять, к примеру, `B-290`), а у некоторых из них неизвестен даже пол, не говоря уже о родителях и детях. Такие данные стоит удалить.\n",
    "\n",
    "Удалите все процессы, состоящие только из одного поколения (в котором, естественно, будет только один человек).\n",
    "Сколько осталось процессов?"
   ]
  },
  {
   "cell_type": "code",
   "execution_count": 139,
   "metadata": {},
   "outputs": [
    {
     "name": "stdout",
     "output_type": "stream",
     "text": [
      "17898\n"
     ]
    }
   ],
   "source": [
    "for i in range(len(processes))[::-1]:\n",
    "    if len(processes[i].generations) < 2:\n",
    "        del processes[i]\n",
    "\n",
    "print(len(processes))"
   ]
  },
  {
   "cell_type": "markdown",
   "metadata": {},
   "source": [
    "**Удаляем странные фамилии (фамилии, которые состоят только из одной буквы, то есть имеют вид B-29)**"
   ]
  },
  {
   "cell_type": "code",
   "execution_count": 4,
   "metadata": {},
   "outputs": [
    {
     "name": "stdout",
     "output_type": "stream",
     "text": [
      "17898\n"
     ]
    }
   ],
   "source": [
    "\n",
    "for i in range(len(processes))[::-1]:\n",
    "    for j in range(len(processes[i].generations)):\n",
    "        for person in processes[i].generations[j]:\n",
    "            if(person.name[1] == '-'):\n",
    "                del person\n",
    "print(len(processes))"
   ]
  },
  {
   "cell_type": "markdown",
   "metadata": {},
   "source": [
    "Для лучшего понимания задачи и предложенных данных посчитайте следующие характеристики: минимальное, максимальное и среднее число поколений в роду, год рождения самого старого и самого молодого человека, среднюю продолжительность жизни."
   ]
  },
  {
   "cell_type": "code",
   "execution_count": 5,
   "metadata": {},
   "outputs": [
    {
     "name": "stdout",
     "output_type": "stream",
     "text": [
      "Минимальное число поколений в роду: 2\n",
      "Максимальное число поколений в роду: 66\n",
      "Среднее число поколений в роду: 3.3\n",
      "Год рождения самого старого: 1\n",
      "Год рождения самого молодого: 2000\n"
     ]
    }
   ],
   "source": [
    "generation_counts = []\n",
    "years = []\n",
    "\n",
    "for pedigree in processes:\n",
    "    generation_counts.append(len(pedigree.generations))\n",
    "    \n",
    "    for generation in pedigree.generations:\n",
    "        for person in generation:\n",
    "            if person.birthday != '':\n",
    "                years.append(person.birthday.split('-')[0])\n",
    "\n",
    "years = np.array(years, dtype=int)\n",
    "print('Минимальное число поколений в роду:', min(generation_counts))\n",
    "print('Максимальное число поколений в роду:', max(generation_counts))\n",
    "print('Среднее число поколений в роду:', round(np.mean(generation_counts), 1))\n",
    "print('Год рождения самого старого:', min(years))\n",
    "print('Год рождения самого молодого:', max(years))"
   ]
  },
  {
   "cell_type": "markdown",
   "metadata": {},
   "source": [
    "Постройте гистограмму зависимости количества поколений в родословной от количества родословных.\n",
    "На следующем графике отложите на временной оси года рождения всех людей."
   ]
  },
  {
   "cell_type": "code",
   "execution_count": 6,
   "metadata": {},
   "outputs": [
    {
     "data": {
      "image/png": "[encoded data removed]",
      "text/plain": [
       "<matplotlib.figure.Figure at 0x112f0a0f0>"
      ]
     },
     "metadata": {},
     "output_type": "display_data"
    },
    {
     "data": {
      "image/png": "[encoded data removed]",
      "text/plain": [
       "<matplotlib.figure.Figure at 0x10a8199b0>"
      ]
     },
     "metadata": {},
     "output_type": "display_data"
    }
   ],
   "source": [
    "plt.figure(figsize=(10, 4))\n",
    "plt.hist(generation_counts, bins=80)\n",
    "plt.xlabel('generations count in pedigree')\n",
    "plt.ylabel('count of pedogree')\n",
    "plt.show()\n",
    "\n",
    "plt.figure(figsize=(15, 1))\n",
    "plt.scatter(years, np.zeros_like(years), alpha=0.2)\n",
    "plt.xlabel('years')\n",
    "plt.show()"
   ]
  },
  {
   "cell_type": "markdown",
   "metadata": {},
   "source": [
    "Посчитайте среднюю продолжительность жизни."
   ]
  },
  {
   "cell_type": "code",
   "execution_count": 7,
   "metadata": {},
   "outputs": [
    {
     "name": "stdout",
     "output_type": "stream",
     "text": [
      "57.17\n"
     ]
    }
   ],
   "source": [
    "ages = []\n",
    "for pedigree in processes:\n",
    "    for generation in pedigree.generations:\n",
    "        for person in generation:\n",
    "            if person.birthday != '' and person.deathdate != '':\n",
    "                ages.append(int(person.deathdate.split('-')[0]) - \\\n",
    "                            int(person.birthday.split('-')[0]))\n",
    "\n",
    "mean_age = np.mean(ages)\n",
    "print(round(mean_age, 2))"
   ]
  },
  {
   "cell_type": "markdown",
   "metadata": {},
   "source": [
    "## 2. Оценка закона размножения\n",
    "\n",
    "Для начала предположим, что все выданные вам процессы являются частью одного большого процесса с общим предком. В следующем задании рассмотрим так же случай, когда все процессы являются разными.\n",
    "\n",
    "Чтобы проводить какой-либо анализ ветвящегося процесса нужно некоторым образом оценить закон размножения. Кажется,  что для этого достаточно посчитать количество сыновей у каждого человека, получив тем самым выборку неотрицательных целых чисел. Однако, проблема в том, что данные неполные, в частности, некоторые поля могут быть не заполнены. Тем не менее обычно у человека указаны либо все дети, либо не указаны вообще. \n",
    "Таким образом, условно мы можем разделить выборку на две части: поле детей заполнено (в т.ч. если у человека на самом деле нет детей), поле детей незаполнено. Если бы первая часть выборки была бы полностью известна, что распределение можно оценить по ней. Нам же неизвестен размер выборки и количество нулевых элементов в ней. Количество положительных элементов известно.\n",
    "\n",
    "\n",
    "**Математическая постановка задачи**\n",
    "\n",
    "$\\mathsf{P}_\\theta$ --- неизвестное распределение из некоторого класса распределений $\\mathcal{P}$ на $\\mathbb{Z}_+$.\n",
    "\n",
    "$X_1, ..., X_n$ --- выборка из распределения $\\mathsf{P}_\\theta$, причем $n$ и количество нулей в выборке неизвестны. \n",
    "\n",
    "$Y_1, ..., Y_s$ --- положительная подвыборка, которая полностью нам известна. В нашей задаче $Y_j$ --- количество сыновей у $j$-го человека среди тех, у кого есть хотя бы один сын.\n",
    "\n",
    "Оценку параметра $\\theta$ можно найти методом максимального правдоподобия:\n",
    "\n",
    "$$\\prod_{i=1}^s \\mathsf{P}_\\theta (Y_i \\left| Y_i > 0 \\right) \\to \\max_\\theta$$ \n",
    "\n",
    "В качестве классов распределений $\\mathcal{P}$ рассмотрите пуассоновское и геометрическое распределения. По желанию можете рассмотреть другие классы распределений, осмысленные в данной задаче\n",
    "\n",
    "**Внимание!** Применение метода `fit` из `scipy.stats` является некорректным в данной задаче, поскольку рассматривается усеченная выборка. Задачу максимизации нужно решить явно, выписав все формулы (которые тоже нужно прислать вместе с кодом).\n",
    "\n",
    "После оценки параметров проведите проверку принадлежности неизвестного распределения рассматриваемому семейству распределений $\\mathcal{P}$ с помощью критерия хи-квадрат, взяв для для него то распределение из $\\mathcal{P}$, которое соответствует оценке максимального правдоподобия. Постарайтесь учесть все особенности проверки гипотез, которые обсуждались на семинаре. Для каждого класса постройте также график частот и функции $\\mathsf{P}_\\theta (y \\left| Y > 0 \\right).$"
   ]
  },
  {
   "cell_type": "markdown",
   "metadata": {},
   "source": [
    "**Сделаем выборку(считаем количество сыновей для каждого человека)**"
   ]
  },
  {
   "cell_type": "code",
   "execution_count": 187,
   "metadata": {},
   "outputs": [],
   "source": [
    "sample_sons = []\n",
    "for i in range(len(processes)):\n",
    "    for j in range(len(processes[i].generations) - 1):\n",
    "        for person in processes[i].generations[j]:\n",
    "            if person.gender == 'male':\n",
    "                count_sons = 0\n",
    "                for child in person.children:\n",
    "                    k = 0\n",
    "                    person_next_generation = processes[i].generations[j+1][k]\n",
    "                    while k < len(processes[i].generations[j+1]) and person_next_generation.name != child:\n",
    "                        person_next_generation = processes[i].generations[j+1][k]\n",
    "                        k +=1\n",
    "                    if(k < len(processes[i].generations[j+1]) and person_next_generation.gender == 'male'):\n",
    "                        count_sons += 1\n",
    "                if count_sons > 0:\n",
    "                    sample_sons.append(count_sons)\n",
    "\n",
    "sample_big = np.array(sample_sons)\n"
   ]
  },
  {
   "cell_type": "markdown",
   "metadata": {},
   "source": [
    "Сначала поймем, что такое $\\mathsf{P}_\\theta (Y_i \\left| Y_i > 0 \\right)$ :\n",
    "$$\\mathsf{P}_\\theta (Y_i \\left| Y_i > 0 \\right) = \\frac{P_\\theta(Y_i \\cap (Y_i>0))}{P_\\theta(Y_i > 0)}$$\n",
    "Так как все элементы нашей выборки строго положительны, то:\n",
    "$$\\mathsf{P}_\\theta (Y_i \\left| Y_i > 0 \\right) = \\frac{P_\\theta(Y_i)}{P_\\theta(Y_i > 0)}$$"
   ]
  },
  {
   "cell_type": "markdown",
   "metadata": {},
   "source": [
    "**Теперь уменьшим размер выборки**"
   ]
  },
  {
   "cell_type": "code",
   "execution_count": 188,
   "metadata": {},
   "outputs": [],
   "source": [
    "import random\n",
    "\n",
    "samples = []\n",
    "sample_little = []\n",
    "count_samples = 10\n",
    "n = 60\n",
    "for i in range(count_samples):\n",
    "    for j in range(n):\n",
    "        sample_little.append(random.choice(sample_big))\n",
    "    samples.append(sample_little)\n",
    "    sample_little = []\n",
    "samples = np.array(samples)\n"
   ]
  },
  {
   "cell_type": "markdown",
   "metadata": {},
   "source": [
    "**Для пуассоновского распределения с параметром $\\theta$ ( $\\theta \\in (0, \\infty)$ ) :** <br>\n",
    "$$p(x) = \\frac{e^{-\\theta} \\theta^x}{x!}$$\n",
    "$$F_{\\theta}(Y_1, ..., Y_s) = \\frac{e^{-s\\theta} \\theta^{Y_1 + ... + Y_s}}{Y_1! ... Y_s!} \\frac{1}{(1 - e^{-\\theta})^s}$$\n",
    "$$L_{\\theta}(Y_1, ..., Y_s) = -s\\theta + \\sum_{i=1}^s{Y_i}  ln(\\theta) - \\sum_{i=1}^s{ln(Y_i!)} + s\\theta - sln(e^{\\theta} - 1)$$\n",
    "$$L'_{\\theta}(Y_1, ..., Y_s) = \\frac{\\sum_{i=1}^s{Y_i}}{\\theta} - s \\frac{e^\\theta}{e^{\\theta} - 1} = 0$$ <br>\n",
    "$$\\Rightarrow \\overline{Y} = \\theta \\frac{e^{\\theta}}{e^{\\theta} - 1}$$\n",
    "Функция $\\theta \\frac{e^{\\theta}}{e^{\\theta} - 1}$ является монотонно возрастающей, поэтому для нахождения $\\theta$ применим бинпоиск."
   ]
  },
  {
   "cell_type": "code",
   "execution_count": 189,
   "metadata": {},
   "outputs": [],
   "source": [
    "evaluate = lambda x, overline_Y: (x * (np.exp(x)) / (np.exp(x) - 1)) - overline_Y\n",
    "\n",
    "#Нахождение решения бинпоиском\n",
    "def bin_search(left, right, eps, overline_Y):\n",
    "    middle = (left + right) / 2\n",
    "    if(np.abs(evaluate(middle, overline_Y)) < eps):\n",
    "        return middle\n",
    "    if(evaluate(middle, overline_Y) > 0): \n",
    "        right = middle\n",
    "    elif(evaluate(middle, overline_Y) < 0):\n",
    "        left = middle\n",
    "    return bin_search(left, right, eps, overline_Y)\n",
    "\n",
    "\n",
    "\n",
    "def find_theta_pois(sample):\n",
    "    overline_Y = np.mean(sample)\n",
    "    return bin_search(0.05, 10, 0.00001, overline_Y)\n",
    "\n"
   ]
  },
  {
   "cell_type": "markdown",
   "metadata": {},
   "source": [
    "**Для геометрического распредления с параметром $\\theta$ $(\\theta \\in$ (0, 1])** :\n",
    "\n",
    "$$p(x) = (1 - \\theta)^{x} \\theta$$\n",
    "$$F_{\\theta}(Y_1, ..., Y_s) = \\prod_{i=1}^s \\mathsf{P}_\\theta (Y_i \\left| Y_i > 0 \\right) = \\frac{(1 - \\theta)^{{\\sum {Y_i}}} \\theta^s}{(1 - \\theta)^s} =  (1 - \\theta)^{{\\sum {Y_i}} - s} \\theta^s$$\n",
    "$$L_{\\theta}(Y_1, ..., Y_s) = {\\sum_{i = 1}^s {Y_i} - s} ln(1 - \\theta) + {s}ln(\\theta)$$\n",
    "$$L'_{\\theta}(Y_1, ..., Y_s) = -\\frac{\\sum_{i = 1}^s {Y_i} - s}{1 - \\theta} + \\frac{s}{\\theta}  = 0$$ <br>\n",
    "$$\\Rightarrow \\theta^* = \\frac{1}{\\overline{Y}}$$\n"
   ]
  },
  {
   "cell_type": "code",
   "execution_count": 190,
   "metadata": {},
   "outputs": [],
   "source": [
    "def find_theta_geom(sample):\n",
    "    overline_Y = np.mean(sample)\n",
    "    return 1 / overline_Y\n"
   ]
  },
  {
   "cell_type": "markdown",
   "metadata": {},
   "source": [
    "**Сначала, для наглядности, нарисуем графики**"
   ]
  },
  {
   "cell_type": "code",
   "execution_count": 191,
   "metadata": {},
   "outputs": [
    {
     "data": {
      "image/png": "[encoded data removed]",
      "text/plain": [
       "<matplotlib.figure.Figure at 0x114743278>"
      ]
     },
     "metadata": {},
     "output_type": "display_data"
    },
    {
     "name": "stdout",
     "output_type": "stream",
     "text": [
      "theta для пуассоновского: 1.7619401931762693\n"
     ]
    }
   ],
   "source": [
    "grid = np.arange(1, 10, 1)\n",
    "theta_for_pois = find_theta_pois(sample_big)\n",
    "theta_for_geom = find_theta_geom(sample_big)\n",
    "\n",
    "con_pdf_pois = (((theta_for_pois**grid) / factorial(grid)) * np.exp(-theta_for_pois)) / (1 - np.exp(-theta_for_pois))\n",
    "con_pdf_geom = ((1 - theta_for_geom)**(grid - 1)) * theta_for_geom\n",
    "\n",
    "plt.figure(figsize=(14, 6))\n",
    "plt.title(\"Гистограмма и $P_\\\\theta (y | Y > 0)$ для пуассоновского распределения\")\n",
    "plt.hist(sample_big, normed=True, bins=20, color = 'red', alpha = 0.3)\n",
    "plt.scatter(grid, con_pdf_pois, color='black', label='con_pmf_pois', alpha = 1)\n",
    "plt.grid(ls=':')\n",
    "plt.legend()\n",
    "plt.show()\n",
    "\n",
    "print(\"theta для пуассоновского:\", theta_for_pois)"
   ]
  },
  {
   "cell_type": "code",
   "execution_count": 192,
   "metadata": {},
   "outputs": [
    {
     "data": {
      "image/png": "[encoded data removed]",
      "text/plain": [
       "<matplotlib.figure.Figure at 0x11529c240>"
      ]
     },
     "metadata": {},
     "output_type": "display_data"
    },
    {
     "name": "stdout",
     "output_type": "stream",
     "text": [
      "theta для геометрического: 0.470101169954\n"
     ]
    }
   ],
   "source": [
    "plt.figure(figsize=(14, 6))\n",
    "plt.title(\"Гистограмма и $P_\\\\theta (y | Y > 0)$ для геометрического распределения\")\n",
    "plt.hist(sample_big, normed=True, bins=20, color = 'red', alpha = 0.3)\n",
    "plt.scatter(grid, con_pdf_geom, color='black', label='con_pmf_geom', alpha = 1)\n",
    "plt.grid(ls=':')\n",
    "plt.legend()\n",
    "plt.show()\n",
    "print(\"theta для геометрического:\", theta_for_geom)"
   ]
  },
  {
   "cell_type": "markdown",
   "metadata": {},
   "source": [
    "**Из графиков видно, что неизвестное распределение больше похоже на геометрическое распределение с параметром $\\theta = 0.469$**"
   ]
  },
  {
   "cell_type": "markdown",
   "metadata": {},
   "source": [
    "Теперь найдем статистику и pvalue"
   ]
  },
  {
   "cell_type": "code",
   "execution_count": 193,
   "metadata": {},
   "outputs": [],
   "source": [
    "#Функция, выполняющая разбиение\n",
    "#    первый аргумент - разбиваемая подвыборка, второй - номер этой подвыборки\n",
    "#    третий, четвертый - массивы для записи кол-ва элементов в интервалах разбиения\n",
    "#    пятый, шестой - массивы для записи мат.ожиданий попадания в интервалы\n",
    "def split(sample, i, counts_pois, counts_geom, E_pois, E_geom):\n",
    "    \n",
    "\n",
    "    #Разобьем нашу выборку по значениям (рассматриваем кол-во людей имеющих одинаковое кол-во сыновей)\n",
    "    counts_dict = dict()\n",
    "    for value in sample:\n",
    "        if(value in counts_dict.keys()):\n",
    "            counts_dict[value] += 1\n",
    "        else:\n",
    "            counts_dict[value] = 1\n",
    "\n",
    "    #Матожидания попадания в интервал (то есть матожидание кол-во людей с определенным кол-вом сыновей)\n",
    "    E_pois_dict = dict()\n",
    "    E_geom_dict = dict()\n",
    "    for value in counts_dict.keys():\n",
    "        #считаем вероятности конкретного значения x для двух распределений\n",
    "        E_pois_dict[value] = sps.poisson(theta_pois[i]).pmf(value) * len(sample)\n",
    "        E_geom_dict[value] = sps.geom(theta_geom[i]).pmf(value) * len(sample)\n",
    "\n",
    "\n",
    "    #Преобразуем данные в массивы\n",
    "    for value in counts_dict.keys():\n",
    "        counts_pois.append(counts_dict[value])\n",
    "        counts_geom.append(counts_dict[value])\n",
    "        E_pois.append(E_pois_dict[value])\n",
    "        E_geom.append(E_geom_dict[value])\n",
    "    \n",
    "    \n",
    "\n",
    "#функция,объединяющая некоторые интервалы для того,чтобы для каждого интервала матожидание попадания в него было >=5\n",
    "def union(E, counts):\n",
    "    while min(E) < 5:\n",
    "        id_min1 = E.index(min(E))\n",
    "        E_min1 = E[id_min1]\n",
    "        count1 = counts[id_min1]\n",
    "        E.pop(id_min1)\n",
    "        counts.pop(id_min1)\n",
    "        id_min2 = E.index(min(E))\n",
    "        E[id_min2] += E_min1\n",
    "        counts[id_min2] += count1\n",
    "\n",
    "\n",
    "def chisquare_format(result, alpha=0.05):\n",
    "    print(\"Статистика критерия хи-квадрат:\", round(result.statistic, 3))\n",
    "    print(\"p-value: \", round(result.pvalue, 3))\n",
    "    if result.pvalue < alpha:\n",
    "        print(\"Гипотеза отвергается.\")\n",
    "    else:\n",
    "        print(\"Гипотеза не отвергается.\")\n",
    "        \n"
   ]
  },
  {
   "cell_type": "markdown",
   "metadata": {},
   "source": [
    "**Теперь применим критерий хи-квадрат для проверки гипотезы для каждой подвыборки**"
   ]
  },
  {
   "cell_type": "code",
   "execution_count": 194,
   "metadata": {},
   "outputs": [],
   "source": [
    "#массив получившихся p_value для каждой подвыборки\n",
    "p_values_pois = []\n",
    "p_values_geom = []\n",
    "\n",
    "#массивы найденных theta для разных подвыборок\n",
    "theta_pois = []\n",
    "theta_geom = []\n",
    "for i in range(count_samples):\n",
    "    theta_pois.append(find_theta_pois(samples[i]))\n",
    "    theta_geom.append(find_theta_geom(samples[i]))\n",
    "\n",
    "    \n",
    "#массивы для записи текущих результатов для каждой подвыборки, а именно кол-во элементов в интервале\n",
    "#  и мат.ожидание попадания в интервал.\n",
    "counts_pois = []\n",
    "counts_geom = []\n",
    "E_pois = []\n",
    "E_geom = []\n",
    "\n",
    "#Для каждой подвыборки считаем pvalue\n",
    "for i in range(count_samples):\n",
    "    split(samples[i], i, counts_pois, counts_geom, E_pois, E_geom)\n",
    "    union(E_pois, counts_pois)\n",
    "    union(E_geom, counts_geom)\n",
    "\n",
    "    #Находим статистику и pvalue\n",
    "    test_pois = sps.chisquare(counts_pois, E_pois)\n",
    "    test_geom = sps.chisquare(counts_geom, E_geom)\n",
    "    p_values_pois.append(test_pois.pvalue)\n",
    "    p_values_geom.append(test_geom.pvalue)\n",
    "    E_pois = []\n",
    "    E_geom = []\n",
    "    counts_pois = []\n",
    "    counts_geom = []"
   ]
  },
  {
   "cell_type": "code",
   "execution_count": 195,
   "metadata": {},
   "outputs": [
    {
     "name": "stdout",
     "output_type": "stream",
     "text": [
      "Гипотеза: Распределение Пуассоновское\n",
      "Отвергаем: [ True  True  True  True False  True  True  True  True  True]\n",
      "[  1.96504138e-03   1.30711840e-04   1.46502638e-02   9.26535903e-04\n",
      "   1.65457766e-01   2.59433008e-04   1.75876056e-03   2.11243961e-03\n",
      "   2.02269143e-06   1.59843534e-02]\n",
      "\n",
      "Гипотеза: Распределение геометрическое\n",
      "Отвергаем: [False False False False False False False False False False]\n",
      "[ 1.          0.85843981  1.          1.          1.          0.28854837\n",
      "  1.          1.          0.13655354  1.        ]\n"
     ]
    }
   ],
   "source": [
    "#Множественная проверка гипотез\n",
    "from statsmodels.sandbox.stats.multicomp import multipletests\n",
    "\n",
    "result_pois = multipletests(p_values_pois, method='bonferroni', is_sorted=False)\n",
    "result_geom = multipletests(p_values_geom, method='bonferroni', is_sorted=False)\n",
    "\n",
    "print(\"Гипотеза: Распределение Пуассоновское\")\n",
    "print(\"Отвергаем:\", result_pois[0])\n",
    "print(result_pois[1])\n",
    "print(\"\\nГипотеза: Распределение геометрическое\")\n",
    "print(\"Отвергаем:\", result_geom[0])\n",
    "print(result_geom[1])"
   ]
  },
  {
   "cell_type": "markdown",
   "metadata": {},
   "source": [
    "**Вывод: Проведя несколько тестов для 10ти выборок, используя критерий хи-квадрат и мнежественную проверку гипотез, понимаем, что нужно отвергнуть гипотезу о том, что распределение Пуассоновское. Гипотезу о том, что распределение геометрическое принимаем (шутка, не отвергаем !).**"
   ]
  }
 ],
 "metadata": {
  "kernelspec": {
   "display_name": "Python 3",
   "language": "python",
   "name": "python3"
  },
  "language_info": {
   "codemirror_mode": {
    "name": "ipython",
    "version": 3
   },
   "file_extension": ".py",
   "mimetype": "text/x-python",
   "name": "python",
   "nbconvert_exporter": "python",
   "pygments_lexer": "ipython3",
   "version": "3.6.1"
  }
 },
 "nbformat": 4,
 "nbformat_minor": 1
}
